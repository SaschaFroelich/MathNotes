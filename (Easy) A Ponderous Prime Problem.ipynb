{
 "cells": [
  {
   "cell_type": "markdown",
   "metadata": {},
   "source": [
    "# Difficulty: Easy\n",
    "\n",
    "This one might first appear a little boring, but I like it for its potential educational value, because this problem's has the classical \"character\" of academic mathematical proofs, but is so simple that everyone who knows what a prime number is could (in theory) come up with the solution."
   ]
  },
  {
   "cell_type": "markdown",
   "metadata": {},
   "source": [
    "# The Problem"
   ]
  },
  {
   "cell_type": "markdown",
   "metadata": {},
   "source": [
    "Prove that every number has a prime factorisation. (The idea is to prove just the existence of prime factorisations, NOT that there's always a unique one).\n",
    "\n",
    "# Solution\n",
    "\n",
    "Let's pick a random number $m$. If it is a prime number than it is its own prime factorisation. If $m$ is not a prime number, then there must be two whole numbers $m_1$ and $m_2$, such that $m= m_1 \\cdot m_2$ (because otherwise $m$ would be prime). By the same line of logic, if either $m_1$ or $m_2$ (or both) are not prime, then we can do the same with them: $m_1=m_3\\cdot m_4$ and $m_2=m_5\\cdot m_6$. We can repeat that process unless at some point we cannot factorisation the resulting numbers further, i.e. until they are prime, which has to happen at some point, as the numbers have to get smaller with each new factorisation. Consequently, we have to end up at a product that contains only prime numbers."
   ]
  },
  {
   "cell_type": "markdown",
   "metadata": {},
   "source": [
    "## Comment\n",
    "\n",
    "I admit that the problem feels a bit circular because, at least for me, it feels like the definition of prime numbers is in a way already the solution to the problem. But that's what I like about it: It is a one-step proof of a concept everyone is familiar with, even non-mathematicians. It works just like any other academic proof, only that it is less convoluted."
   ]
  },
  {
   "cell_type": "code",
   "execution_count": null,
   "metadata": {},
   "outputs": [],
   "source": []
  }
 ],
 "metadata": {
  "kernelspec": {
   "display_name": "Python 3",
   "language": "python",
   "name": "python3"
  },
  "language_info": {
   "codemirror_mode": {
    "name": "ipython",
    "version": 3
   },
   "file_extension": ".py",
   "mimetype": "text/x-python",
   "name": "python",
   "nbconvert_exporter": "python",
   "pygments_lexer": "ipython3",
   "version": "3.9.1"
  }
 },
 "nbformat": 4,
 "nbformat_minor": 2
}
