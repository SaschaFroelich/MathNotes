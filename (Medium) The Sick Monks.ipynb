{
 "cells": [
  {
   "cell_type": "markdown",
   "metadata": {},
   "source": [
    "## (Medium) The Sick Monks\n",
    "\n",
    "In a monastery far, far away, there live a group of (very clever) monks. All of the monks took a vow of silence, and they are generally not allowed to communicate with each other. Every morning, the monks stand in a circle and look at each other in meditation, then they go about their business. One day, there is an official announcement on the monastery's blackboard saying that a (noninfectious) disease broke out in the monastery, which does cause no symptoms other than a discoloration of the face. All sick monks are required to leave the monastery. After the third morning round, all sick monks leave the monastery together. How many sick monks were there? \n",
    "\n",
    "There are no mirrors in the monastery."
   ]
  },
  {
   "cell_type": "markdown",
   "metadata": {},
   "source": [
    "## Answer:\n",
    "\n",
    "There are 3 sick monsks. Why?\n",
    "\n",
    "Imagine you're one of the monks. As the disease only reveals itself by aslight discoloration of the face, and you are not allowed to communicate with the other monks, you might have the disease without knowing it. Meeting all other monks the morning after the announcement, and you don't see any other sick monk, it is evident that you must be the (only) sick one. If, however, you see one sick monk the first morning, there are two possibilites: (A) Either the sick monk sees no other sick monks, or (B) The sick monk sees one other sick monk (which has to be you). In case (A), the sick monk will leave (due to him realising he is the only sick one). In case (B), you will see the sick monk the second morning, meaning he saw another sick one. If you don't see another sick monk, that one must be you, and you leave together after the second morning. If there are three sick monks, the sick friars will each realise they are sick on the third morning, as each of them had been seeing two sick monks, but if there had *only* be two sick monks, they'd have left after the second morning, according to our previous argument."
   ]
  },
  {
   "cell_type": "code",
   "execution_count": null,
   "metadata": {},
   "outputs": [],
   "source": []
  }
 ],
 "metadata": {
  "kernelspec": {
   "display_name": "Python 3",
   "language": "python",
   "name": "python3"
  },
  "language_info": {
   "codemirror_mode": {
    "name": "ipython",
    "version": 3
   },
   "file_extension": ".py",
   "mimetype": "text/x-python",
   "name": "python",
   "nbconvert_exporter": "python",
   "pygments_lexer": "ipython3",
   "version": "3.8.3"
  }
 },
 "nbformat": 4,
 "nbformat_minor": 4
}
