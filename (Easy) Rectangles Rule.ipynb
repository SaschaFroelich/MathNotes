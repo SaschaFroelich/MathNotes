{
 "cells": [
  {
   "cell_type": "markdown",
   "metadata": {},
   "source": [
    "# Difficulty: Easy\n",
    "\n",
    "This is a little math riddle which our Mathematics Department presented to the public during the Night of Science in Dresden. It is not particularly difficult, in fact, it does not require almost any mathematical education. Yet, its solution is an elegant example of the mathematical way of thinking. I presented it to some of my coworkers and friends (who are not mathematicians) and found some of their approaches quite intriguing.\n",
    "\n",
    "The question was:\n",
    "\n",
    "__Below you see an image of a large rectangle with smaller rectangles inside it. The numbers in the rectangles are the perimeters of the rectangles in which they are contained. The image is not to scale. What is the perimeter of the large outer rectangle?__\n",
    "\n",
    "<img src=\"box1.png\">"
   ]
  },
  {
   "cell_type": "markdown",
   "metadata": {},
   "source": [
    "Who simply wants to know the solution should scroll one paragraph down. In the following paragraph I will describe one of my coworkers' approach, which I thought was interesting from the point of view of mathematical pedagogy.\n",
    "\n",
    "# The Enthusiast\n",
    "\n",
    "My coworker has no mathematical education beyond high school level (and statistics for psychologists), yet he always enjoys a good riddle. He very quickly came to the \"correct\"' result by simply constructing an example like below: <img src=\"box5.png\">"
   ]
  },
  {
   "cell_type": "markdown",
   "metadata": {},
   "source": [
    "From this, it is clear that the perimeter of the large rectangle has to be 26. However, this result is only correct because given the way the riddle is set up, one knows that *any* configuration with the given perimeters for the inner rectangles has to have the same outer perimeter. So yes, given the situation and the setting, that approach to the solution is correct. But any mathematician would not be satisfied by this; We want a solution that determines the outer perimeter while at the same time proving that it has to be the same no matter the configuration. Of course it would be possible to prove that stretching and squeezing the concrete configuration above into any other configuration with the same perimeter for the inner rectangles would always result in an outer rectangle of the same perimeter, but that'd be soooooooo boring.\n",
    "\n",
    "# The (Mathematician's) Solution\n",
    "\n",
    "Let's consider the northmost rectangle which has perimeter 6. This means that the sum of the lengths of all its sides (drawn in red below) is 6:\n",
    "<img src=\"box2.png\">"
   ]
  },
  {
   "cell_type": "markdown",
   "metadata": {},
   "source": [
    "This also means that 6 is the sum of the four red sides, where three sides are part of outer rectangle:\n",
    "\n",
    "<img src=\"box3.png\">"
   ]
  },
  {
   "cell_type": "markdown",
   "metadata": {},
   "source": [
    "By the same reasoning, the sum of the inner rectangles, without the center one, is equal to the perimeter of the outer rectangle *plus* the perimeter of the center rectangle:\n",
    "<img src=\"box7.png\">"
   ]
  },
  {
   "cell_type": "markdown",
   "metadata": {},
   "source": [
    "Thus, the perimeter of the outer rectangle is equal to the perimeters of the inner rectangles, without the center rectangle, minus the center rectangle, which is\n",
    "\n",
    "<center>\n",
    "    $6+6+8+10-4 = 26$\n",
    "</center>"
   ]
  }
 ],
 "metadata": {
  "kernelspec": {
   "display_name": "Python 3",
   "language": "python",
   "name": "python3"
  },
  "language_info": {
   "codemirror_mode": {
    "name": "ipython",
    "version": 3
   },
   "file_extension": ".py",
   "mimetype": "text/x-python",
   "name": "python",
   "nbconvert_exporter": "python",
   "pygments_lexer": "ipython3",
   "version": "3.7.4"
  }
 },
 "nbformat": 4,
 "nbformat_minor": 2
}
